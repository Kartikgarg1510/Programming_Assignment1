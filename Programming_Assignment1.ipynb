{
 "cells": [
  {
   "cell_type": "markdown",
   "id": "3a37fd61-c84f-4286-b766-d982016ac332",
   "metadata": {},
   "source": [
    "# 1. Write a Python program to print \"Hello Python\"?"
   ]
  },
  {
   "cell_type": "code",
   "execution_count": 1,
   "id": "773f5ef4-ec5c-44dc-a39e-495674486c3e",
   "metadata": {},
   "outputs": [
    {
     "name": "stdout",
     "output_type": "stream",
     "text": [
      "Hello Python\n"
     ]
    }
   ],
   "source": [
    "String = \"Hello Python\"\n",
    "print(String)"
   ]
  },
  {
   "cell_type": "markdown",
   "id": "2eb81844-8c1a-4dce-a4d0-8e6d28c79472",
   "metadata": {},
   "source": [
    "# 2. Write a Python program to do arithmetical operations addition and division.?"
   ]
  },
  {
   "cell_type": "code",
   "execution_count": 4,
   "id": "6a7ed059-157a-4e09-9689-c2f94a981683",
   "metadata": {},
   "outputs": [
    {
     "name": "stdin",
     "output_type": "stream",
     "text": [
      "First number:  2\n",
      "Second number:  2\n"
     ]
    },
    {
     "name": "stdout",
     "output_type": "stream",
     "text": [
      "Addition: 4.0\n",
      "Division: 1.0\n"
     ]
    }
   ],
   "source": [
    "a = float(input(\"First number: \"))\n",
    "b = float(input(\"Second number: \"))\n",
    "\n",
    "print(\"Addition:\", a + b)\n",
    "print(\"Division:\", a / b)"
   ]
  },
  {
   "cell_type": "markdown",
   "id": "7b6e3eea-66ee-4fec-be93-71708d64dd49",
   "metadata": {},
   "source": [
    "# 3. Write a Python program to find the area of a triangle?"
   ]
  },
  {
   "cell_type": "code",
   "execution_count": 7,
   "id": "63ac9d69-ef3d-4f8c-9ff6-778f0966fb8b",
   "metadata": {},
   "outputs": [
    {
     "name": "stdin",
     "output_type": "stream",
     "text": [
      "Enter the base:  20\n",
      "Enter the height:  10\n"
     ]
    },
    {
     "name": "stdout",
     "output_type": "stream",
     "text": [
      "Area of the triangle: 100.0\n"
     ]
    }
   ],
   "source": [
    "base = float(input(\"Enter the base: \"))\n",
    "height = float(input(\"Enter the height: \"))\n",
    "area = 0.5 * base * height\n",
    "print(\"Area of the triangle:\", area)"
   ]
  },
  {
   "cell_type": "markdown",
   "id": "bf3b0d1b-813c-483f-9e97-7ce1fad1c8f6",
   "metadata": {},
   "source": [
    "# 4. Write a Python program to swap two variables?"
   ]
  },
  {
   "cell_type": "code",
   "execution_count": 12,
   "id": "cb8191d4-5742-48aa-971b-437905495ac4",
   "metadata": {},
   "outputs": [
    {
     "name": "stdin",
     "output_type": "stream",
     "text": [
      "First:  100\n",
      "Second:  200\n"
     ]
    },
    {
     "name": "stdout",
     "output_type": "stream",
     "text": [
      "First: 200\n",
      "Second: 100\n"
     ]
    }
   ],
   "source": [
    "a = input(\"First: \")\n",
    "b = input(\"Second: \")\n",
    "\n",
    "a, b = b, a\n",
    "\n",
    "print(\"First:\", a)\n",
    "print(\"Second:\", b)"
   ]
  },
  {
   "cell_type": "markdown",
   "id": "553bdb30-b740-442c-8ac0-1bb25cb29ca4",
   "metadata": {},
   "source": [
    "# 5. Write a Python program to generate a random number?"
   ]
  },
  {
   "cell_type": "code",
   "execution_count": 60,
   "id": "a9368b81-d94b-4212-86d5-8bac72346595",
   "metadata": {},
   "outputs": [
    {
     "name": "stdout",
     "output_type": "stream",
     "text": [
      "47\n"
     ]
    }
   ],
   "source": [
    "import random\n",
    "number = random.randrange(1,100,1)\n",
    "print(number)"
   ]
  }
 ],
 "metadata": {
  "kernelspec": {
   "display_name": "Python [conda env:base] *",
   "language": "python",
   "name": "conda-base-py"
  },
  "language_info": {
   "codemirror_mode": {
    "name": "ipython",
    "version": 3
   },
   "file_extension": ".py",
   "mimetype": "text/x-python",
   "name": "python",
   "nbconvert_exporter": "python",
   "pygments_lexer": "ipython3",
   "version": "3.12.7"
  }
 },
 "nbformat": 4,
 "nbformat_minor": 5
}
